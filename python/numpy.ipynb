{
 "cells": [
  {
   "cell_type": "code",
   "execution_count": 1,
   "id": "8a1a03c7-914a-40a7-ba59-95979ec36ad6",
   "metadata": {},
   "outputs": [
    {
     "name": "stdout",
     "output_type": "stream",
     "text": [
      "Jupyter is working!\n"
     ]
    }
   ],
   "source": [
    "print(\"Jupyter is working!\")"
   ]
  },
  {
   "cell_type": "markdown",
   "id": "5e9056e7-1ee0-49a8-b675-c62749861bab",
   "metadata": {},
   "source": [
    "# My First Jupyter Notebook\n",
    "This notebook is for practicing Python.\n",
    "\n",
    "**Currently learning: NumPy basics**"
   ]
  },
  {
   "cell_type": "code",
   "execution_count": 19,
   "id": "722ff568-f9b2-4019-a31a-abab9072462d",
   "metadata": {},
   "outputs": [
    {
     "name": "stdout",
     "output_type": "stream",
     "text": [
      "[[1 2 3]\n",
      " [2 3 4]\n",
      " [4 5 6]\n",
      " [5 7 8]]\n"
     ]
    }
   ],
   "source": [
    "u=np.array([[1,2,3],[2,3,4]])\n",
    "v=np.array([[4,5,6],[5,7,8]])\n",
    "print(np.concatenate((u,v)))"
   ]
  },
  {
   "cell_type": "code",
   "execution_count": 18,
   "id": "2343c36c-6302-468f-82c9-51a748a13b5b",
   "metadata": {},
   "outputs": [
    {
     "name": "stdout",
     "output_type": "stream",
     "text": [
      "[1 2 3 4 5 6]\n"
     ]
    }
   ],
   "source": [
    "u=np.array([1,2,3])\n",
    "v=np.array([4,5,6])\n",
    "print(np.concatenate((u,v)))"
   ]
  },
  {
   "cell_type": "code",
   "execution_count": 12,
   "id": "baba3f9a-265f-429f-a051-64cc149a8f7b",
   "metadata": {},
   "outputs": [
    {
     "name": "stdout",
     "output_type": "stream",
     "text": [
      "[[[1 2 3]\n",
      "  [2 3 4]]\n",
      "\n",
      " [[4 5 6]\n",
      "  [5 7 8]]]\n"
     ]
    }
   ],
   "source": [
    "import numpy as np\n",
    "u=np.array([[1,2,3],[2,3,4]])\n",
    "v=np.array([[4,5,6],[5,7,8]])\n",
    "s = np.stack([u,v])\n",
    "print(s)"
   ]
  },
  {
   "cell_type": "code",
   "execution_count": null,
   "id": "c77e99b8-945a-485e-a256-bdc891214e39",
   "metadata": {},
   "outputs": [],
   "source": [
    "#hstack()-- horizontal stack\n",
    "#vstack ()-- vertical stack"
   ]
  },
  {
   "cell_type": "code",
   "execution_count": 13,
   "id": "eb92d2b4-aafd-4d63-82dd-8292741795ad",
   "metadata": {},
   "outputs": [
    {
     "name": "stdout",
     "output_type": "stream",
     "text": [
      "[1 2 3 4 2 4 5 6]\n",
      "[[1 2 3 4]\n",
      " [2 4 5 6]]\n"
     ]
    }
   ],
   "source": [
    "a = np.array([1,2,3,4])\n",
    "b = np.array([2,4,5,6])\n",
    "c = np.hstack([a,b])\n",
    "print (c)\n",
    "d = np.vstack([a,b])\n",
    "print(d)"
   ]
  },
  {
   "cell_type": "markdown",
   "id": "444318bc-06d2-43d3-a7b1-7144b79fff67",
   "metadata": {},
   "source": [
    "**split function**"
   ]
  },
  {
   "cell_type": "code",
   "execution_count": 14,
   "id": "22abeea2-993d-4448-922b-497ed649797f",
   "metadata": {},
   "outputs": [
    {
     "name": "stdout",
     "output_type": "stream",
     "text": [
      "[array([1, 2, 3]), array([4, 5, 6])]\n"
     ]
    }
   ],
   "source": [
    "x=np.array([1,2,3,4,5,6])\n",
    "y=np.array_split(x,2)\n",
    "print(y)"
   ]
  },
  {
   "cell_type": "code",
   "execution_count": 15,
   "id": "e4d607be-c874-4fbd-bb04-672fad18c70d",
   "metadata": {},
   "outputs": [
    {
     "name": "stdout",
     "output_type": "stream",
     "text": [
      "[array([[1, 2, 3]]), array([[4, 5, 6]]), array([[6, 7, 8]]), array([[ 9, 10, 11]]), array([], shape=(0, 3), dtype=int64), array([], shape=(0, 3), dtype=int64)]\n"
     ]
    }
   ],
   "source": [
    "z=np.array([[1,2,3],[4,5,6],[6,7,8],[9,10,11]])\n",
    "a=np.array_split(z,6)\n",
    "print(a)"
   ]
  },
  {
   "cell_type": "code",
   "execution_count": 16,
   "id": "645098fb-8908-49a0-b7b0-d071f8f4f1df",
   "metadata": {},
   "outputs": [
    {
     "name": "stdout",
     "output_type": "stream",
     "text": [
      "[array([[1],\n",
      "       [4],\n",
      "       [6],\n",
      "       [9]]), array([[ 2],\n",
      "       [ 5],\n",
      "       [ 7],\n",
      "       [10]]), array([[ 3],\n",
      "       [ 6],\n",
      "       [ 8],\n",
      "       [11]])]\n"
     ]
    }
   ],
   "source": [
    "#hsplit\n",
    "b=np.hsplit(z,3)\n",
    "print(b)"
   ]
  },
  {
   "cell_type": "code",
   "execution_count": 17,
   "id": "44d55156-6634-4cfe-8605-e0d29466e9f4",
   "metadata": {},
   "outputs": [
    {
     "name": "stdout",
     "output_type": "stream",
     "text": [
      "[array([[1, 2, 3],\n",
      "       [4, 5, 6]]), array([[ 6,  7,  8],\n",
      "       [ 9, 10, 11]])]\n"
     ]
    }
   ],
   "source": [
    "# vsplit\n",
    "c=np.vsplit(z,2)\n",
    "print(c)"
   ]
  },
  {
   "cell_type": "code",
   "execution_count": 20,
   "id": "e576a2c1-5075-431f-abc4-b97601c38c7d",
   "metadata": {},
   "outputs": [
    {
     "name": "stdout",
     "output_type": "stream",
     "text": [
      "[5, 4, 3, 3, 2, 1]\n"
     ]
    }
   ],
   "source": [
    "a=[3,1,2,3,4,5]\n",
    "a.sort(reverse=True)\n",
    "print(a)"
   ]
  },
  {
   "cell_type": "code",
   "execution_count": 21,
   "id": "fc00a47b-c79a-47d4-a7cb-04ba341d9294",
   "metadata": {},
   "outputs": [
    {
     "name": "stdout",
     "output_type": "stream",
     "text": [
      "[1 2 3 5 6 8]\n"
     ]
    }
   ],
   "source": [
    "a=np.array([3,5,6,8,2,1])\n",
    "print(np.sort(a))"
   ]
  },
  {
   "cell_type": "code",
   "execution_count": 22,
   "id": "9c3e88bf-ee6b-4b07-896a-dae2bcd7246b",
   "metadata": {},
   "outputs": [
    {
     "name": "stdout",
     "output_type": "stream",
     "text": [
      "[8 6 5 3 2 1]\n"
     ]
    }
   ],
   "source": [
    "a=np.array([3,5,6,8,2,1])\n",
    "b=np.argsort(a)[::-1]\n",
    "c=a[b]\n",
    "print(c)"
   ]
  },
  {
   "cell_type": "code",
   "execution_count": 23,
   "id": "0dc56eb1-8a09-4131-813c-cd8347be73da",
   "metadata": {},
   "outputs": [
    {
     "name": "stdout",
     "output_type": "stream",
     "text": [
      "[1 4 5]\n"
     ]
    }
   ],
   "source": [
    "# # filter method\n",
    "c=np.array([1,3,4,5,6])\n",
    "b=[True,False,True,True,False]\n",
    "print(c[b])"
   ]
  },
  {
   "cell_type": "code",
   "execution_count": 25,
   "id": "51d0a0a6-2878-4b28-9de6-5ff08af69530",
   "metadata": {},
   "outputs": [
    {
     "name": "stdout",
     "output_type": "stream",
     "text": [
      "[5 6]\n"
     ]
    }
   ],
   "source": [
    "c=np.array([1,3,4,5,6])\n",
    "d=c > 4\n",
    "print(c[d])\n"
   ]
  },
  {
   "cell_type": "code",
   "execution_count": 27,
   "id": "2cb9db14-b325-4c22-82b0-4b3c1d059659",
   "metadata": {},
   "outputs": [],
   "source": [
    "# array initialization method\n",
    "# 1. zeros() method\n",
    "# 2. ones() method\n",
    "# 3. full() method\n",
    "# 4. arange() method\n",
    "# 5. linspace() method\n",
    "# 6.eye() method"
   ]
  },
  {
   "cell_type": "code",
   "execution_count": 28,
   "id": "bcf521fd-89a0-40b5-87a4-0f2ebbf9d42f",
   "metadata": {},
   "outputs": [
    {
     "name": "stdout",
     "output_type": "stream",
     "text": [
      "[[0. 0. 0.]\n",
      " [0. 0. 0.]]\n",
      "[[1. 1. 1.]\n",
      " [1. 1. 1.]]\n",
      "[[5 5 5]\n",
      " [5 5 5]]\n",
      "[1 3 5 7 9]\n",
      "[ 0.          1.42857143  2.85714286  4.28571429  5.71428571  7.14285714\n",
      "  8.57142857 10.         11.42857143 12.85714286 14.28571429 15.71428571\n",
      " 17.14285714 18.57142857 20.        ]\n",
      "[[1. 0. 0.]\n",
      " [0. 1. 0.]\n",
      " [0. 0. 1.]]\n"
     ]
    }
   ],
   "source": [
    "a=np.zeros((2,3))\n",
    "print(a)\n",
    "\n",
    "a=np.ones((2,3))\n",
    "print(a)\n",
    "\n",
    "a=np.full((2,3),5)\n",
    "print(a)\n",
    "\n",
    "a=np.arange(1,10,2)\n",
    "print(a)\n",
    "\n",
    "c=np.linspace(0,20,num=15)\n",
    "print(c)\n",
    "\n",
    "d=np.eye(3)\n",
    "print(d)"
   ]
  },
  {
   "cell_type": "code",
   "execution_count": 29,
   "id": "4f88e30c-3b93-4e2a-a390-965561cdbf0f",
   "metadata": {},
   "outputs": [
    {
     "name": "stdout",
     "output_type": "stream",
     "text": [
      "[[ 2  4  6  8]\n",
      " [10 12 14 16]]\n",
      "[[ 3  4  5  6]\n",
      " [ 7  8  9 10]]\n",
      "[[ 1  4  9 16]\n",
      " [25 36 49 64]]\n",
      "36\n",
      "1\n",
      "8\n"
     ]
    }
   ],
   "source": [
    "\n",
    "a=np.array([[1,2,3,4],[5,6,7,8]])\n",
    "a=np.array([[1,2,3,4],[5,6,7,8]])\n",
    "print(a+a)\n",
    "print(a+2)\n",
    "print(a*a)\n",
    "print(a.sum())\n",
    "print(a.min())\n",
    "print(a.max())"
   ]
  },
  {
   "cell_type": "code",
   "execution_count": null,
   "id": "ebad8d4f-e235-4318-a007-c3a9debab163",
   "metadata": {},
   "outputs": [],
   "source": []
  }
 ],
 "metadata": {
  "kernelspec": {
   "display_name": "Python 3 (ipykernel)",
   "language": "python",
   "name": "python3"
  },
  "language_info": {
   "codemirror_mode": {
    "name": "ipython",
    "version": 3
   },
   "file_extension": ".py",
   "mimetype": "text/x-python",
   "name": "python",
   "nbconvert_exporter": "python",
   "pygments_lexer": "ipython3",
   "version": "3.13.3"
  }
 },
 "nbformat": 4,
 "nbformat_minor": 5
}
